{
 "metadata": {
  "language_info": {
   "codemirror_mode": {
    "name": "ipython",
    "version": 3
   },
   "file_extension": ".py",
   "mimetype": "text/x-python",
   "name": "python",
   "nbconvert_exporter": "python",
   "pygments_lexer": "ipython3",
   "version": "3.7.4-final"
  },
  "orig_nbformat": 2,
  "kernelspec": {
   "name": "python3",
   "display_name": "Python 3",
   "language": "python"
  }
 },
 "nbformat": 4,
 "nbformat_minor": 2,
 "cells": [
  {
   "cell_type": "code",
   "execution_count": 1,
   "metadata": {},
   "outputs": [
    {
     "output_type": "stream",
     "name": "stderr",
     "text": [
      "Matplotlib is building the font cache; this may take a moment.\n"
     ]
    }
   ],
   "source": [
    "import pandas as pd\n",
    "import numpy as np\n",
    "import matplotlib.pyplot as plt\n",
    "import pandas_datareader.data as web\n",
    "import datetime\n",
    "\n",
    "from typing import List, Dict"
   ]
  },
  {
   "source": [
    "# Stock Prices EDA\n",
    "\n",
    "## Compute Sharp Ratio\n",
    "\n",
    "Risk-free rate is ~ $0.08$ for 2021\n",
    "\n",
    "$s_a=\\frac{E[R_a - R_b]}{\\sigma_a}$\n"
   ],
   "cell_type": "markdown",
   "metadata": {}
  },
  {
   "cell_type": "code",
   "execution_count": 24,
   "metadata": {},
   "outputs": [],
   "source": [
    "class SmigStock:\n",
    "\n",
    "    DATE_FORMAT = \"%Y-%m-%d\"\n",
    "    RISK_FREE_RATE = 0.0006\n",
    "\n",
    "    @property\n",
    "    def tickers(self):\n",
    "        return self._tickers\n",
    "\n",
    "    @tickers.setter\n",
    "    def tickers(self, tickers: List[str]):\n",
    "        if tickers and isinstance(tickers, list):\n",
    "            self._tickers = tickers\n",
    "\n",
    "    def add_ticker(self, ticker: str) -> None:\n",
    "        self.tickers.append(ticker)\n",
    "\n",
    "    @property\n",
    "    def start_date(self) -> \"datetime.datetime\":\n",
    "        return self._start_date\n",
    "\n",
    "    @start_date.setter\n",
    "    def start_date(self, value: str) -> None:\n",
    "        if not isinstance(value, str):\n",
    "            return\n",
    "        try:\n",
    "            self._start_date = datetime.datetime.strptime(value, SmigStock.DATE_FORMAT)\n",
    "        except Exception as e:\n",
    "            print(str(e))\n",
    "            raise\n",
    "\n",
    "    @property\n",
    "    def end_date(self) -> \"datetime.datetime\":\n",
    "        return self._end_date\n",
    "\n",
    "    @end_date.setter\n",
    "    def end_date(self, value: str) -> None:\n",
    "        if not isinstance(value, str):\n",
    "            return\n",
    "        try:\n",
    "            self._end_date = datetime.datetime.strptime(value, SmigStock.DATE_FORMAT)\n",
    "        except Exception as e:\n",
    "            print(str(e))\n",
    "            raise\n",
    "\n",
    "    def __init__(self, tickers: List[str], start_date: str, end_date: str) -> None:\n",
    "        self.tickers = tickers\n",
    "        self.start_date = start_date\n",
    "        self.end_date = end_date\n",
    "        self.data = {}\n",
    "\n",
    "    def get_prices(self) -> None:\n",
    "        #? Should you redownload price data for all tickers or just ones not already in self.data?\n",
    "        for ticker in self.tickers:\n",
    "            self.data[ticker] = {}\n",
    "            if ticker in self.data:\n",
    "                print(f\"{ticker} data has already been downloaded\")\n",
    "                # continue\n",
    "            print(f\"Downloading stock price data for {ticker}\")\n",
    "            df = web.DataReader(ticker, 'yahoo', self.start_date, self.end_date)\n",
    "            df.reset_index(inplace=True)\n",
    "            df = df[['Date', 'Adj Close']]\n",
    "            df.columns = ['ds', 'y']\n",
    "            df.set_index('ds', inplace=True)\n",
    "            df = self.compute_metrics(df)\n",
    "            print(\"Download complete\")\n",
    "            self.data[ticker]['prices'] = df\n",
    "            self.data[ticker]['sharp_ratio'] = self.compute_sharp_ratio(ticker)\n",
    "\n",
    "    def compute_metrics(self, df):\n",
    "        df['daily_ret'] = df.diff(axis=0)\n",
    "        df['daily_percent'] = df['daily_ret'] / df['y'].shift()\n",
    "        df['excess'] = df.daily_percent-SmigStock.RISK_FREE_RATE\n",
    "        return df\n",
    "        \n",
    "    def compute_sharp_ratio(self, ticker):\n",
    "        # grab the data\n",
    "        df = self.data[ticker]['prices']\n",
    "        s = (df.shape[0]/np.sqrt(252))*df.daily_percent.mean()/df.daily_percent.std()\n",
    "        print(\"Sharp Ratio for %s = %s\" % (ticker, s))\n",
    "        return s"
   ]
  },
  {
   "cell_type": "code",
   "execution_count": 25,
   "metadata": {},
   "outputs": [],
   "source": [
    "tickers = ['TSLA','AAPL','AMZN']\n",
    "ss = SmigStock(tickers=tickers,start_date='2020-10-01', end_date='2021-02-12')"
   ]
  },
  {
   "cell_type": "code",
   "execution_count": 27,
   "metadata": {},
   "outputs": [
    {
     "output_type": "stream",
     "name": "stdout",
     "text": [
      "TSLA data has already been downloaded\n",
      "Downloading stock price data for TSLA\n",
      "Download complete\n",
      "Sharp Ratio for TSLA = 1.1582631251741264\n",
      "AAPL data has already been downloaded\n",
      "Downloading stock price data for AAPL\n",
      "Download complete\n",
      "Sharp Ratio for AAPL = 0.5131143920651774\n",
      "AMZN data has already been downloaded\n",
      "Downloading stock price data for AMZN\n",
      "Download complete\n",
      "Sharp Ratio for AMZN = 0.11308695485187312\n"
     ]
    }
   ],
   "source": [
    "ss.get_prices()"
   ]
  },
  {
   "source": [],
   "cell_type": "markdown",
   "metadata": {}
  }
 ]
}